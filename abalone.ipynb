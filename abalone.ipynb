{
 "cells": [
  {
   "cell_type": "code",
   "execution_count": 2,
   "metadata": {},
   "outputs": [],
   "source": [
    "import pandas as pd"
   ]
  },
  {
   "cell_type": "code",
   "execution_count": 5,
   "metadata": {},
   "outputs": [
    {
     "data": {
      "text/html": [
       "<div>\n",
       "<style scoped>\n",
       "    .dataframe tbody tr th:only-of-type {\n",
       "        vertical-align: middle;\n",
       "    }\n",
       "\n",
       "    .dataframe tbody tr th {\n",
       "        vertical-align: top;\n",
       "    }\n",
       "\n",
       "    .dataframe thead th {\n",
       "        text-align: right;\n",
       "    }\n",
       "</style>\n",
       "<table border=\"1\" class=\"dataframe\">\n",
       "  <thead>\n",
       "    <tr style=\"text-align: right;\">\n",
       "      <th></th>\n",
       "      <th>Sex</th>\n",
       "      <th>Length</th>\n",
       "      <th>Diameter</th>\n",
       "      <th>Height</th>\n",
       "      <th>Whole_weight</th>\n",
       "      <th>Shucked_weight</th>\n",
       "      <th>Viscera_weight</th>\n",
       "      <th>Shell_weight</th>\n",
       "      <th>Class</th>\n",
       "    </tr>\n",
       "  </thead>\n",
       "  <tbody>\n",
       "    <tr>\n",
       "      <th>0</th>\n",
       "      <td>M</td>\n",
       "      <td>0.455</td>\n",
       "      <td>0.365</td>\n",
       "      <td>0.095</td>\n",
       "      <td>0.5140</td>\n",
       "      <td>0.2245</td>\n",
       "      <td>0.1010</td>\n",
       "      <td>0.1500</td>\n",
       "      <td>negative</td>\n",
       "    </tr>\n",
       "    <tr>\n",
       "      <th>1</th>\n",
       "      <td>M</td>\n",
       "      <td>0.350</td>\n",
       "      <td>0.265</td>\n",
       "      <td>0.090</td>\n",
       "      <td>0.2255</td>\n",
       "      <td>0.0995</td>\n",
       "      <td>0.0485</td>\n",
       "      <td>0.0700</td>\n",
       "      <td>negative</td>\n",
       "    </tr>\n",
       "    <tr>\n",
       "      <th>2</th>\n",
       "      <td>F</td>\n",
       "      <td>0.530</td>\n",
       "      <td>0.420</td>\n",
       "      <td>0.135</td>\n",
       "      <td>0.6770</td>\n",
       "      <td>0.2565</td>\n",
       "      <td>0.1415</td>\n",
       "      <td>0.2100</td>\n",
       "      <td>negative</td>\n",
       "    </tr>\n",
       "    <tr>\n",
       "      <th>3</th>\n",
       "      <td>M</td>\n",
       "      <td>0.440</td>\n",
       "      <td>0.365</td>\n",
       "      <td>0.125</td>\n",
       "      <td>0.5160</td>\n",
       "      <td>0.2155</td>\n",
       "      <td>0.1140</td>\n",
       "      <td>0.1550</td>\n",
       "      <td>negative</td>\n",
       "    </tr>\n",
       "    <tr>\n",
       "      <th>4</th>\n",
       "      <td>I</td>\n",
       "      <td>0.330</td>\n",
       "      <td>0.255</td>\n",
       "      <td>0.080</td>\n",
       "      <td>0.2050</td>\n",
       "      <td>0.0895</td>\n",
       "      <td>0.0395</td>\n",
       "      <td>0.0550</td>\n",
       "      <td>negative</td>\n",
       "    </tr>\n",
       "    <tr>\n",
       "      <th>...</th>\n",
       "      <td>...</td>\n",
       "      <td>...</td>\n",
       "      <td>...</td>\n",
       "      <td>...</td>\n",
       "      <td>...</td>\n",
       "      <td>...</td>\n",
       "      <td>...</td>\n",
       "      <td>...</td>\n",
       "      <td>...</td>\n",
       "    </tr>\n",
       "    <tr>\n",
       "      <th>4169</th>\n",
       "      <td>M</td>\n",
       "      <td>0.560</td>\n",
       "      <td>0.430</td>\n",
       "      <td>0.155</td>\n",
       "      <td>0.8675</td>\n",
       "      <td>0.4000</td>\n",
       "      <td>0.1720</td>\n",
       "      <td>0.2290</td>\n",
       "      <td>negative</td>\n",
       "    </tr>\n",
       "    <tr>\n",
       "      <th>4170</th>\n",
       "      <td>F</td>\n",
       "      <td>0.565</td>\n",
       "      <td>0.450</td>\n",
       "      <td>0.165</td>\n",
       "      <td>0.8870</td>\n",
       "      <td>0.3700</td>\n",
       "      <td>0.2390</td>\n",
       "      <td>0.2490</td>\n",
       "      <td>negative</td>\n",
       "    </tr>\n",
       "    <tr>\n",
       "      <th>4171</th>\n",
       "      <td>M</td>\n",
       "      <td>0.590</td>\n",
       "      <td>0.440</td>\n",
       "      <td>0.135</td>\n",
       "      <td>0.9660</td>\n",
       "      <td>0.4390</td>\n",
       "      <td>0.2145</td>\n",
       "      <td>0.2605</td>\n",
       "      <td>negative</td>\n",
       "    </tr>\n",
       "    <tr>\n",
       "      <th>4172</th>\n",
       "      <td>M</td>\n",
       "      <td>0.600</td>\n",
       "      <td>0.475</td>\n",
       "      <td>0.205</td>\n",
       "      <td>1.1760</td>\n",
       "      <td>0.5255</td>\n",
       "      <td>0.2875</td>\n",
       "      <td>0.3080</td>\n",
       "      <td>negative</td>\n",
       "    </tr>\n",
       "    <tr>\n",
       "      <th>4173</th>\n",
       "      <td>F</td>\n",
       "      <td>0.625</td>\n",
       "      <td>0.485</td>\n",
       "      <td>0.150</td>\n",
       "      <td>1.0945</td>\n",
       "      <td>0.5310</td>\n",
       "      <td>0.2610</td>\n",
       "      <td>0.2960</td>\n",
       "      <td>negative</td>\n",
       "    </tr>\n",
       "  </tbody>\n",
       "</table>\n",
       "<p>4174 rows × 9 columns</p>\n",
       "</div>"
      ],
      "text/plain": [
       "     Sex  Length  Diameter  Height  Whole_weight  Shucked_weight  \\\n",
       "0      M   0.455     0.365   0.095        0.5140          0.2245   \n",
       "1      M   0.350     0.265   0.090        0.2255          0.0995   \n",
       "2      F   0.530     0.420   0.135        0.6770          0.2565   \n",
       "3      M   0.440     0.365   0.125        0.5160          0.2155   \n",
       "4      I   0.330     0.255   0.080        0.2050          0.0895   \n",
       "...   ..     ...       ...     ...           ...             ...   \n",
       "4169   M   0.560     0.430   0.155        0.8675          0.4000   \n",
       "4170   F   0.565     0.450   0.165        0.8870          0.3700   \n",
       "4171   M   0.590     0.440   0.135        0.9660          0.4390   \n",
       "4172   M   0.600     0.475   0.205        1.1760          0.5255   \n",
       "4173   F   0.625     0.485   0.150        1.0945          0.5310   \n",
       "\n",
       "      Viscera_weight  Shell_weight     Class  \n",
       "0             0.1010        0.1500  negative  \n",
       "1             0.0485        0.0700  negative  \n",
       "2             0.1415        0.2100  negative  \n",
       "3             0.1140        0.1550  negative  \n",
       "4             0.0395        0.0550  negative  \n",
       "...              ...           ...       ...  \n",
       "4169          0.1720        0.2290  negative  \n",
       "4170          0.2390        0.2490  negative  \n",
       "4171          0.2145        0.2605  negative  \n",
       "4172          0.2875        0.3080  negative  \n",
       "4173          0.2610        0.2960  negative  \n",
       "\n",
       "[4174 rows x 9 columns]"
      ]
     },
     "execution_count": 5,
     "metadata": {},
     "output_type": "execute_result"
    }
   ],
   "source": [
    "df=pd.read_csv('abalone19.dat')\n",
    "df"
   ]
  },
  {
   "cell_type": "code",
   "execution_count": 6,
   "metadata": {},
   "outputs": [
    {
     "name": "stdout",
     "output_type": "stream",
     "text": [
      "<class 'pandas.core.frame.DataFrame'>\n",
      "RangeIndex: 4174 entries, 0 to 4173\n",
      "Data columns (total 9 columns):\n",
      " #   Column          Non-Null Count  Dtype  \n",
      "---  ------          --------------  -----  \n",
      " 0   Sex             4174 non-null   object \n",
      " 1   Length          4174 non-null   float64\n",
      " 2   Diameter        4174 non-null   float64\n",
      " 3   Height          4174 non-null   float64\n",
      " 4   Whole_weight    4174 non-null   float64\n",
      " 5   Shucked_weight  4174 non-null   float64\n",
      " 6   Viscera_weight  4174 non-null   float64\n",
      " 7   Shell_weight    4174 non-null   float64\n",
      " 8   Class           4174 non-null   object \n",
      "dtypes: float64(7), object(2)\n",
      "memory usage: 293.6+ KB\n"
     ]
    }
   ],
   "source": [
    "df.info()"
   ]
  },
  {
   "cell_type": "markdown",
   "metadata": {},
   "source": [
    "Transforming categorical columns"
   ]
  },
  {
   "cell_type": "code",
   "execution_count": 7,
   "metadata": {},
   "outputs": [
    {
     "data": {
      "text/plain": [
       "Sex\n",
       "M    1526\n",
       "I    1341\n",
       "F    1307\n",
       "Name: count, dtype: int64"
      ]
     },
     "execution_count": 7,
     "metadata": {},
     "output_type": "execute_result"
    }
   ],
   "source": [
    "df['Sex'].value_counts()"
   ]
  },
  {
   "cell_type": "code",
   "execution_count": 8,
   "metadata": {},
   "outputs": [
    {
     "data": {
      "text/plain": [
       "Class\n",
       "negative    4142\n",
       "positive      32\n",
       "Name: count, dtype: int64"
      ]
     },
     "execution_count": 8,
     "metadata": {},
     "output_type": "execute_result"
    }
   ],
   "source": [
    "df['Class'].value_counts()"
   ]
  },
  {
   "cell_type": "code",
   "execution_count": 9,
   "metadata": {},
   "outputs": [
    {
     "data": {
      "text/html": [
       "<div>\n",
       "<style scoped>\n",
       "    .dataframe tbody tr th:only-of-type {\n",
       "        vertical-align: middle;\n",
       "    }\n",
       "\n",
       "    .dataframe tbody tr th {\n",
       "        vertical-align: top;\n",
       "    }\n",
       "\n",
       "    .dataframe thead th {\n",
       "        text-align: right;\n",
       "    }\n",
       "</style>\n",
       "<table border=\"1\" class=\"dataframe\">\n",
       "  <thead>\n",
       "    <tr style=\"text-align: right;\">\n",
       "      <th></th>\n",
       "      <th>Length</th>\n",
       "      <th>Diameter</th>\n",
       "      <th>Height</th>\n",
       "      <th>Whole_weight</th>\n",
       "      <th>Shucked_weight</th>\n",
       "      <th>Viscera_weight</th>\n",
       "      <th>Shell_weight</th>\n",
       "      <th>Class</th>\n",
       "      <th>Sex_I</th>\n",
       "      <th>Sex_M</th>\n",
       "    </tr>\n",
       "  </thead>\n",
       "  <tbody>\n",
       "    <tr>\n",
       "      <th>0</th>\n",
       "      <td>0.455</td>\n",
       "      <td>0.365</td>\n",
       "      <td>0.095</td>\n",
       "      <td>0.5140</td>\n",
       "      <td>0.2245</td>\n",
       "      <td>0.1010</td>\n",
       "      <td>0.1500</td>\n",
       "      <td>0</td>\n",
       "      <td>False</td>\n",
       "      <td>True</td>\n",
       "    </tr>\n",
       "    <tr>\n",
       "      <th>1</th>\n",
       "      <td>0.350</td>\n",
       "      <td>0.265</td>\n",
       "      <td>0.090</td>\n",
       "      <td>0.2255</td>\n",
       "      <td>0.0995</td>\n",
       "      <td>0.0485</td>\n",
       "      <td>0.0700</td>\n",
       "      <td>0</td>\n",
       "      <td>False</td>\n",
       "      <td>True</td>\n",
       "    </tr>\n",
       "    <tr>\n",
       "      <th>2</th>\n",
       "      <td>0.530</td>\n",
       "      <td>0.420</td>\n",
       "      <td>0.135</td>\n",
       "      <td>0.6770</td>\n",
       "      <td>0.2565</td>\n",
       "      <td>0.1415</td>\n",
       "      <td>0.2100</td>\n",
       "      <td>0</td>\n",
       "      <td>False</td>\n",
       "      <td>False</td>\n",
       "    </tr>\n",
       "    <tr>\n",
       "      <th>3</th>\n",
       "      <td>0.440</td>\n",
       "      <td>0.365</td>\n",
       "      <td>0.125</td>\n",
       "      <td>0.5160</td>\n",
       "      <td>0.2155</td>\n",
       "      <td>0.1140</td>\n",
       "      <td>0.1550</td>\n",
       "      <td>0</td>\n",
       "      <td>False</td>\n",
       "      <td>True</td>\n",
       "    </tr>\n",
       "    <tr>\n",
       "      <th>4</th>\n",
       "      <td>0.330</td>\n",
       "      <td>0.255</td>\n",
       "      <td>0.080</td>\n",
       "      <td>0.2050</td>\n",
       "      <td>0.0895</td>\n",
       "      <td>0.0395</td>\n",
       "      <td>0.0550</td>\n",
       "      <td>0</td>\n",
       "      <td>True</td>\n",
       "      <td>False</td>\n",
       "    </tr>\n",
       "    <tr>\n",
       "      <th>...</th>\n",
       "      <td>...</td>\n",
       "      <td>...</td>\n",
       "      <td>...</td>\n",
       "      <td>...</td>\n",
       "      <td>...</td>\n",
       "      <td>...</td>\n",
       "      <td>...</td>\n",
       "      <td>...</td>\n",
       "      <td>...</td>\n",
       "      <td>...</td>\n",
       "    </tr>\n",
       "    <tr>\n",
       "      <th>4169</th>\n",
       "      <td>0.560</td>\n",
       "      <td>0.430</td>\n",
       "      <td>0.155</td>\n",
       "      <td>0.8675</td>\n",
       "      <td>0.4000</td>\n",
       "      <td>0.1720</td>\n",
       "      <td>0.2290</td>\n",
       "      <td>0</td>\n",
       "      <td>False</td>\n",
       "      <td>True</td>\n",
       "    </tr>\n",
       "    <tr>\n",
       "      <th>4170</th>\n",
       "      <td>0.565</td>\n",
       "      <td>0.450</td>\n",
       "      <td>0.165</td>\n",
       "      <td>0.8870</td>\n",
       "      <td>0.3700</td>\n",
       "      <td>0.2390</td>\n",
       "      <td>0.2490</td>\n",
       "      <td>0</td>\n",
       "      <td>False</td>\n",
       "      <td>False</td>\n",
       "    </tr>\n",
       "    <tr>\n",
       "      <th>4171</th>\n",
       "      <td>0.590</td>\n",
       "      <td>0.440</td>\n",
       "      <td>0.135</td>\n",
       "      <td>0.9660</td>\n",
       "      <td>0.4390</td>\n",
       "      <td>0.2145</td>\n",
       "      <td>0.2605</td>\n",
       "      <td>0</td>\n",
       "      <td>False</td>\n",
       "      <td>True</td>\n",
       "    </tr>\n",
       "    <tr>\n",
       "      <th>4172</th>\n",
       "      <td>0.600</td>\n",
       "      <td>0.475</td>\n",
       "      <td>0.205</td>\n",
       "      <td>1.1760</td>\n",
       "      <td>0.5255</td>\n",
       "      <td>0.2875</td>\n",
       "      <td>0.3080</td>\n",
       "      <td>0</td>\n",
       "      <td>False</td>\n",
       "      <td>True</td>\n",
       "    </tr>\n",
       "    <tr>\n",
       "      <th>4173</th>\n",
       "      <td>0.625</td>\n",
       "      <td>0.485</td>\n",
       "      <td>0.150</td>\n",
       "      <td>1.0945</td>\n",
       "      <td>0.5310</td>\n",
       "      <td>0.2610</td>\n",
       "      <td>0.2960</td>\n",
       "      <td>0</td>\n",
       "      <td>False</td>\n",
       "      <td>False</td>\n",
       "    </tr>\n",
       "  </tbody>\n",
       "</table>\n",
       "<p>4174 rows × 10 columns</p>\n",
       "</div>"
      ],
      "text/plain": [
       "      Length  Diameter  Height  Whole_weight  Shucked_weight  Viscera_weight  \\\n",
       "0      0.455     0.365   0.095        0.5140          0.2245          0.1010   \n",
       "1      0.350     0.265   0.090        0.2255          0.0995          0.0485   \n",
       "2      0.530     0.420   0.135        0.6770          0.2565          0.1415   \n",
       "3      0.440     0.365   0.125        0.5160          0.2155          0.1140   \n",
       "4      0.330     0.255   0.080        0.2050          0.0895          0.0395   \n",
       "...      ...       ...     ...           ...             ...             ...   \n",
       "4169   0.560     0.430   0.155        0.8675          0.4000          0.1720   \n",
       "4170   0.565     0.450   0.165        0.8870          0.3700          0.2390   \n",
       "4171   0.590     0.440   0.135        0.9660          0.4390          0.2145   \n",
       "4172   0.600     0.475   0.205        1.1760          0.5255          0.2875   \n",
       "4173   0.625     0.485   0.150        1.0945          0.5310          0.2610   \n",
       "\n",
       "      Shell_weight  Class  Sex_I  Sex_M  \n",
       "0           0.1500      0  False   True  \n",
       "1           0.0700      0  False   True  \n",
       "2           0.2100      0  False  False  \n",
       "3           0.1550      0  False   True  \n",
       "4           0.0550      0   True  False  \n",
       "...            ...    ...    ...    ...  \n",
       "4169        0.2290      0  False   True  \n",
       "4170        0.2490      0  False  False  \n",
       "4171        0.2605      0  False   True  \n",
       "4172        0.3080      0  False   True  \n",
       "4173        0.2960      0  False  False  \n",
       "\n",
       "[4174 rows x 10 columns]"
      ]
     },
     "execution_count": 9,
     "metadata": {},
     "output_type": "execute_result"
    }
   ],
   "source": [ #
    "df['Class']=df['Class'].map(lambda x: 0 if x=='negative' else 1)\n",
    "df=pd.get_dummies(df,columns=['Sex'],drop_first=True)\n",
    "df"
   ]
  },
  {
   "cell_type": "code",
   "execution_count": 10,
   "metadata": {},
   "outputs": [
    {
     "data": {
      "text/plain": [
       "Class\n",
       "0    0.992333\n",
       "1    0.007667\n",
       "Name: proportion, dtype: float64"
      ]
     },
     "execution_count": 10,
     "metadata": {},
     "output_type": "execute_result"
    }
   ],
   "source": [
    "df['Class'].value_counts(normalize=True)"
   ]
  },
  {
   "cell_type": "code",
   "execution_count": 11,
   "metadata": {},
   "outputs": [
    {
     "data": {
      "text/plain": [
       "<AxesSubplot: xlabel='Class'>"
      ]
     },
     "execution_count": 11,
     "metadata": {},
     "output_type": "execute_result"
    },
    {
     "data": {
      "image/png": "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",
      "text/plain": [
       "<Figure size 640x480 with 1 Axes>"
      ]
     },
     "metadata": {},
     "output_type": "display_data"
    }
   ],
   "source": [
    "df['Class'].value_counts().plot(kind='bar')"
   ]
  },
  {
   "cell_type": "code",
   "execution_count": null,
   "metadata": {},
   "outputs": [
    {
     "data": {
      "text/plain": [
       "<AxesSubplot: ylabel='Class'>"
      ]
     },
     "execution_count": 13,
     "metadata": {},
     "output_type": "execute_result"
    },
    {
     "data": {
      "image/png": "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",
      "text/plain": [
       "<Figure size 640x480 with 1 Axes>"
      ]
     },
     "metadata": {},
     "output_type": "display_data"
    }
   ],
   "source": [
    "df['Class'].value_counts().plot(kind='barh')"
   ]
  },
  {
   "cell_type": "code",
   "execution_count": null,
   "metadata": {},
   "outputs": [
    {
     "data": {
      "text/plain": [
       "<AxesSubplot: ylabel='count'>"
      ]
     },
     "execution_count": 14,
     "metadata": {},
     "output_type": "execute_result"
    },
    {
     "data": {
      "image/png": "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",
      "text/plain": [
       "<Figure size 640x480 with 1 Axes>"
      ]
     },
     "metadata": {},
     "output_type": "display_data"
    }
   ],
   "source": [
    "df['Class'].value_counts().plot(kind='pie')"
   ]
  },
  {
   "cell_type": "markdown",
   "metadata": {},
   "source": [
    "**Splitting Training and test sets**"
   ]
  },
  {
   "cell_type": "code",
   "execution_count": 12,
   "metadata": {},
   "outputs": [],
   "source": [
    "from sklearn.model_selection import train_test_split\n",
    "df_train,df_test=train_test_split(df,test_size=0.2,stratify=df['Class'],random_state=888)\n",
    "features=df_train.drop(columns=['Class']).columns"
   ]
  },
  {
   "cell_type": "code",
   "execution_count": 13,
   "metadata": {},
   "outputs": [
    {
     "data": {
      "text/plain": [
       "Class\n",
       "0    3313\n",
       "1      26\n",
       "Name: count, dtype: int64"
      ]
     },
     "execution_count": 13,
     "metadata": {},
     "output_type": "execute_result"
    }
   ],
   "source": [
    "df_train['Class'].value_counts()"
   ]
  },
  {
   "cell_type": "code",
   "execution_count": 14,
   "metadata": {},
   "outputs": [
    {
     "data": {
      "text/plain": [
       "Class\n",
       "0    829\n",
       "1      6\n",
       "Name: count, dtype: int64"
      ]
     },
     "execution_count": 14,
     "metadata": {},
     "output_type": "execute_result"
    }
   ],
   "source": [
    "df_test['Class'].value_counts()"
   ]
  },
  {
   "cell_type": "markdown",
   "metadata": {},
   "source": [
    "OVERSAMPLING\n",
    "Simple Random Oversampling\n",
    "pandas"
   ]
  },
  {
   "cell_type": "code",
   "execution_count": 15,
   "metadata": {},
   "outputs": [
    {
     "data": {
      "text/plain": [
       "Class\n",
       "0    3313\n",
       "1    3313\n",
       "Name: count, dtype: int64"
      ]
     },
     "execution_count": 15,
     "metadata": {},
     "output_type": "execute_result"
    }
   ],
   "source": [
    "msk=df_train['Class']==1\n",
    "num_to_oversample=len(df_train)-2*msk.sum()\n",
    "df_positive_oversample=df_train[msk].sample(n=num_to_oversample,replace=True,random_state=888)\n",
    "df_train_oversample=pd.concat([df_train,df_positive_oversample])\n",
    "df_train_oversample['Class'].value_counts()"
   ]
  },
  {
   "cell_type": "markdown",
   "metadata": {},
   "source": []
  },
  {
   "cell_type": "code",
   "execution_count": 16,
   "metadata": {},
   "outputs": [
    {
     "data": {
      "text/plain": [
       "0.8389626055488542"
      ]
     },
     "execution_count": 16,
     "metadata": {},
     "output_type": "execute_result"
    }
   ],
   "source": [
    "from sklearn.linear_model import LogisticRegression\n",
    "clf=LogisticRegression(random_state=888)\n",
    "clf.fit(df_train_oversample[features],df_train_oversample['Class'])\n",
    "y_pred=clf.predict_proba(df_test[features])[:,1]\n",
    "from sklearn.metrics import roc_auc_score\n",
    "roc_auc_score(df_test['Class'],y_pred)"
   ]
  },
  {
   "cell_type": "markdown",
   "metadata": {},
   "source": [
    "Imbalanced-learn"
   ]
  },
  {
   "cell_type": "code",
   "execution_count": 17,
   "metadata": {},
   "outputs": [
    {
     "data": {
      "text/plain": [
       "Class\n",
       "0    3313\n",
       "1    3313\n",
       "Name: count, dtype: int64"
      ]
     },
     "execution_count": 17,
     "metadata": {},
     "output_type": "execute_result"
    }
   ],
   "source": [
    "from imblearn.over_sampling import RandomOverSampler\n",
    "ros=RandomOverSampler(random_state=888)\n",
    "X_resampled,y_resampled=ros.fit_resample(df_train[features],df_train['Class'])\n",
    "y_resampled.value_counts()"
   ]
  },
  {
   "cell_type": "code",
   "execution_count": 19,
   "metadata": {},
   "outputs": [
    {
     "data": {
      "text/plain": [
       "0.8389626055488542"
      ]
     },
     "execution_count": 19,
     "metadata": {},
     "output_type": "execute_result"
    }
   ],
   "source": [
    "from sklearn.linear_model import LogisticRegression\n",
    "clf=LogisticRegression(random_state=888)\n",
    "clf.fit(X_resampled,y_resampled)\n",
    "y_pred=clf.predict_proba(df_test[features])[:,1]\n",
    "\n",
    "from sklearn.metrics import roc_auc_score\n",
    "roc_auc_score(df_test['Class'],y_pred)"
   ]
  },
  {
   "cell_type": "markdown",
   "metadata": {},
   "source": [
    "Oversampling with shrinkage"
   ]
  },
  {
   "cell_type": "code",
   "execution_count": 20,
   "metadata": {},
   "outputs": [
    {
     "data": {
      "text/plain": [
       "Class\n",
       "0    3313\n",
       "1    3313\n",
       "Name: count, dtype: int64"
      ]
     },
     "execution_count": 20,
     "metadata": {},
     "output_type": "execute_result"
    }
   ],
   "source": [
    "from imblearn.over_sampling import RandomOverSampler\n",
    "ros=RandomOverSampler(random_state=888,shrinkage=0.1)\n",
    "X_resampled,y_resampled=ros.fit_resample(df_train[features],df_train['Class'])\n",
    "y_resampled.value_counts()"
   ]
  },
  {
   "cell_type": "code",
   "execution_count": 22,
   "metadata": {},
   "outputs": [
    {
     "data": {
      "text/plain": [
       "0.519903498190591"
      ]
     },
     "execution_count": 22,
     "metadata": {},
     "output_type": "execute_result"
    }
   ],
   "source": [
    "clf=LogisticRegression(random_state=888)\n",
    "clf.fit(X_resampled,y_resampled)\n",
    "y_pred=clf.predict_proba(df_test[features])[:,1]\n",
    "\n",
    "roc_auc_score(df_test['Class'],y_pred)"
   ]
  },
  {
   "cell_type": "markdown",
   "metadata": {},
   "source": [
    "Oversampling using SMOTE(Synthetic MInority Over-sampling Technique)"
   ]
  },
  {
   "cell_type": "code",
   "execution_count": 23,
   "metadata": {},
   "outputs": [
    {
     "data": {
      "text/plain": [
       "Class\n",
       "0    3313\n",
       "1    3313\n",
       "Name: count, dtype: int64"
      ]
     },
     "execution_count": 23,
     "metadata": {},
     "output_type": "execute_result"
    }
   ],
   "source": [
    "from imblearn.over_sampling import SMOTE\n",
    "smote=SMOTE(random_state=888)\n",
    "X_resampled,y_resampled=smote.fit_resample(df_train[features],df_train['Class'])\n",
    "y_resampled.value_counts()"
   ]
  },
  {
   "cell_type": "code",
   "execution_count": 25,
   "metadata": {},
   "outputs": [
    {
     "data": {
      "text/plain": [
       "0.8564535585042219"
      ]
     },
     "execution_count": 25,
     "metadata": {},
     "output_type": "execute_result"
    }
   ],
   "source": [
    "clf=LogisticRegression(random_state=888)\n",
    "clf.fit(X_resampled,y_resampled)\n",
    "y_pred=clf.predict_proba(df_test[features])[:,1]\n",
    "roc_auc_score(df_test['Class'],y_pred)"
   ]
  }
 ],
 "metadata": {
  "kernelspec": {
   "display_name": "Python 3",
   "language": "python",
   "name": "python3"
  },
  "language_info": {
   "codemirror_mode": {
    "name": "ipython",
    "version": 3
   },
   "file_extension": ".py",
   "mimetype": "text/x-python",
   "name": "python",
   "nbconvert_exporter": "python",
   "pygments_lexer": "ipython3",
   "version": "3.11.9"
  }
 },
 "nbformat": 4,
 "nbformat_minor": 2
}
